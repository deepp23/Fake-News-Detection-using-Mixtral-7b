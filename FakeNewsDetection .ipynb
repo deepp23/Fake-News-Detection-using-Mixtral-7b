{
 "cells": [
  {
   "cell_type": "code",
   "execution_count": null,
   "id": "d1d9e9dd-4b50-4eee-922b-61009361b4b3",
   "metadata": {},
   "outputs": [],
   "source": [
    "!pip install -q -U torch transformers langchain playwright html2text sentence_transformers faiss-cpu\n",
    "!pip install -q accelerate==0.21.0 peft==0.4.0 bitsandbytes==0.40.2 trl==0.4.7"
   ]
  },
  {
   "cell_type": "code",
   "execution_count": null,
   "id": "c2f6b003-72ae-40cc-8d8a-abb00df41632",
   "metadata": {},
   "outputs": [],
   "source": [
    "!pip install -q -U scipy"
   ]
  },
  {
   "cell_type": "code",
   "execution_count": null,
   "id": "9bb1374c-2275-43a6-a687-1425a1541355",
   "metadata": {
    "editable": true,
    "slideshow": {
     "slide_type": ""
    },
    "tags": []
   },
   "outputs": [],
   "source": [
    "!playwright install\n",
    "!playwright install-deps"
   ]
  },
  {
   "cell_type": "code",
   "execution_count": null,
   "id": "d31d8d4d-dc1a-4f79-bebb-c4ae43b82331",
   "metadata": {},
   "outputs": [],
   "source": [
    "from langchain.text_splitter import CharacterTextSplitter\n",
    "from langchain.document_transformers import Html2TextTransformer\n",
    "from langchain.document_loaders import AsyncChromiumLoader\n",
    "from langchain.embeddings.huggingface import HuggingFaceEmbeddings\n",
    "from langchain.vectorstores import FAISS\n",
    "from langchain.prompts import PromptTemplate\n",
    "from langchain.schema.runnable import RunnablePassthrough\n",
    "from langchain.llms import HuggingFacePipeline\n",
    "from langchain.chains import LLMChain\n",
    "import nest_asyncio\n",
    "nest_asyncio.apply()"
   ]
  },
  {
   "cell_type": "code",
   "execution_count": null,
   "id": "378643e4-8f91-4817-8ee4-bc965f09bed4",
   "metadata": {},
   "outputs": [],
   "source": [
    "import torch\n",
    "import transformers \n",
    "from transformers import AutoTokenizer, AutoModelForCausalLM, BitsAndBytesConfig, pipeline\n",
    "model_name=\"mistralai/Mistral-7B-Instruct-v0.1\"\n",
    "model_config=transformers.AutoConfig.from_pretrained(model_name, )\n",
    "tokenizer=AutoTokenizer.from_pretrained(model_name)\n",
    "tokenizer.pad_token=tokenizer.eos_token\n",
    "tokenizer.padding_side=\"right\""
   ]
  },
  {
   "cell_type": "code",
   "execution_count": null,
   "id": "5f6377ea-ab31-43ae-99c7-df0577925aee",
   "metadata": {},
   "outputs": [],
   "source": [
    "compute_dtype=getattr(torch, \"float16\")\n",
    "bnb_config=BitsAndBytesConfig(\n",
    "    load_in_4bit=True,\n",
    "    bnb_4bit_quant_type=\"nf4\",\n",
    "    bnb_4bit_compute_dtype=compute_dtype,\n",
    "    bnb_4bit_use_double_quant=False,\n",
    ")\n",
    "major, _=torch.cuda.get_device_capability()\n",
    "if major>=8:\n",
    "    print(\"Yes it supports\")\n",
    "    "
   ]
  },
  {
   "cell_type": "code",
   "execution_count": null,
   "id": "cea47786-3ba0-42a0-8233-cab148dd8cd9",
   "metadata": {},
   "outputs": [],
   "source": [
    "if torch.cuda.is_available():\n",
    "    num_devices=torch.cuda.device_count()\n",
    "    for i in range(num_devices):\n",
    "        print(f\"CUDA Device{i}:{torch.cuda.get_device_name(i)}\")\n",
    "else:\n",
    "    print(\"CUDA is not available\")"
   ]
  },
  {
   "cell_type": "code",
   "execution_count": null,
   "id": "8a151a4d-76cd-4e6d-896d-eee6655ce585",
   "metadata": {},
   "outputs": [],
   "source": [
    "model=AutoModelForCausalLM.from_pretrained(model_name, quantization_config=bnb_config)"
   ]
  },
  {
   "cell_type": "code",
   "execution_count": null,
   "id": "bc504759-45ac-46d0-adb5-e69b5d4dbc03",
   "metadata": {},
   "outputs": [],
   "source": [
    "def no_parameters(model):\n",
    "    all_model_params=0\n",
    "    for _, param in model.named_parameters():\n",
    "        all_model_params+=param.numel()\n",
    "    return f\"total number of parameters: {all_model_params}\"\n",
    "\n",
    "res=no_parameters(model)\n",
    "print(f\"{res}\")"
   ]
  },
  {
   "cell_type": "code",
   "execution_count": null,
   "id": "1631e9e2-f21c-473d-9a3f-a94f45abf92b",
   "metadata": {},
   "outputs": [],
   "source": [
    "text_generation_pipeline=pipeline(\n",
    "    model=model,\n",
    "    tokenizer=tokenizer,\n",
    "    task=\"text-generation\",\n",
    "    temperature=0.2,\n",
    "    return_full_text=True,\n",
    "    max_new_tokens=1000,\n",
    ")\n",
    "mistral_llm=HuggingFacePipeline(pipeline=text_generation_pipeline)"
   ]
  },
  {
   "cell_type": "code",
   "execution_count": null,
   "id": "888a601b-c64e-4bbe-8385-141e5e9b202f",
   "metadata": {},
   "outputs": [],
   "source": [
    "article= [\"https://timesofindia.indiatimes.com/india/timestopten.cms\"]\n",
    "loader=AsyncChromiumLoader(article)\n",
    "docs=loader.load()\n",
    "html2text=Html2TextTransformer()\n",
    "docs_transformed=html2text.transform_documents(docs)\n",
    "text_splitter=CharacterTextSplitter(chunk_size=100, chunk_overlap=0)\n",
    "chunked_documents=text_splitter.split_documents(docs_transformed)"
   ]
  },
  {
   "cell_type": "code",
   "execution_count": null,
   "id": "639126e5-cfc5-4548-8253-3792f2df418a",
   "metadata": {},
   "outputs": [],
   "source": [
    "db=FAISS.from_documents(chunked_documents, HuggingFaceEmbeddings(model_name=\"sentence-transformers/all-mpnet-base-v2\"))"
   ]
  },
  {
   "cell_type": "code",
   "execution_count": null,
   "id": "c1187dfc-fc94-44ae-a19e-7a4634e3da9e",
   "metadata": {},
   "outputs": [],
   "source": [
    "retriever=db.as_retriever()"
   ]
  },
  {
   "cell_type": "code",
   "execution_count": null,
   "id": "53805f0d-9e3d-4e88-8da1-ad2afaf96426",
   "metadata": {},
   "outputs": [],
   "source": [
    "prompt_template=\"\"\"\n",
    "### [INST] Instruction: Check whether the given news is correct or not by referencing the original news given below:\n",
    "\n",
    "{original_news}\n",
    "\n",
    "### News\n",
    "{News} [/INST]\n",
    "\"\"\"\n",
    "prompt=PromptTemplate(\n",
    "    input_variables=[\"original_news\", \"News\"], template=prompt_template,)\n"
   ]
  },
  {
   "cell_type": "code",
   "execution_count": null,
   "id": "721d8dd8-6358-4d86-b43f-3952fa14f165",
   "metadata": {},
   "outputs": [],
   "source": [
    "llm_chain=LLMChain(llm=mistral_llm, prompt=prompt)\n",
    "rag_chain=({\"original_news\":retriever, \"News\":RunnablePassthrough()} | llm_chain)\n"
   ]
  },
  {
   "cell_type": "code",
   "execution_count": null,
   "id": "07ecb5dc-177f-4420-a19a-47995cbd85c0",
   "metadata": {},
   "outputs": [],
   "source": [
    "result = rag_chain.invoke(\"Unfortunately Oppenheimer film couldn't get any awards at the Oscars this year\")\n",
    "output = f\"News: {result['News']}\\nText: {result['text']}\"\n",
    "print(output)"
   ]
  },
  {
   "cell_type": "code",
   "execution_count": null,
   "id": "77a46045-c020-45cc-a3b3-11da1210aa07",
   "metadata": {},
   "outputs": [],
   "source": []
  }
 ],
 "metadata": {
  "kernelspec": {
   "display_name": "Python 3 (ipykernel)",
   "language": "python",
   "name": "python3"
  },
  "language_info": {
   "codemirror_mode": {
    "name": "ipython",
    "version": 3
   },
   "file_extension": ".py",
   "mimetype": "text/x-python",
   "name": "python",
   "nbconvert_exporter": "python",
   "pygments_lexer": "ipython3",
   "version": "3.12.2"
  }
 },
 "nbformat": 4,
 "nbformat_minor": 5
}
